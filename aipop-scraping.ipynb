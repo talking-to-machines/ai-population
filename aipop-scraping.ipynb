{
 "cells": [
  {
   "cell_type": "code",
   "execution_count": 1,
   "metadata": {},
   "outputs": [],
   "source": [
    "import os\n",
    "import dotenv\n",
    "dotenv.load_dotenv()\n",
    "from apify_client import ApifyClient\n",
    "import pandas as pd\n",
    "\n",
    "pd.set_option('display.max_rows', None)\n",
    "pd.set_option('display.max_columns', None)"
   ]
  },
  {
   "cell_type": "code",
   "execution_count": 2,
   "metadata": {},
   "outputs": [],
   "source": [
    "# Create the project folder if it does not exist\n",
    "PROJECT = \"us-elections\"\n",
    "folder_path = os.path.join(\"results\", PROJECT)\n",
    "os.makedirs(folder_path, exist_ok=True)\n",
    "\n",
    "# Define search parameters\n",
    "# Key word search\n",
    "RESULTS_PER_PAGE = 10\n",
    "SEARCH_TERMS = [\n",
    "    \"Kamala\",\n",
    "    \"VP\",\n",
    "    \"KamalaHarris\",\n",
    "    \"MAGA\",\n",
    "    \"Trump\",\n",
    "    \"realDonaldTrump\",\n",
    "    \"Robert Kennedy\",\n",
    "    \"RFK\",\n",
    "    \"RobertKennedyJr\",\n",
    "    \"RFKJr\",\n",
    "    \"KennedyShanahan24\",\n",
    "    \"Kennedy24\",\n",
    "    \"Cornel West\",\n",
    "    \"Dr. West\",\n",
    "    \"CornelWest\",\n",
    "    \"Jill Stein\",\n",
    "    \"DrJillStein\",\n",
    "    \"ChaseForLiberty\",\n",
    "]\n",
    "\n",
    "# Profile search\n",
    "NEWEST_POST_DATE = \"2024-10-31\"\n",
    "OLDEST_POST_DATE = \"2024-10-01\"\n",
    "PROFILES = [\n",
    "    \"kamalaharris\",\n",
    "    \"realdonaldtrump\",\n",
    "    \"robertfkennedyjrofficial\",\n",
    "    \"brothercornelwest\",\n",
    "    \"drjillstein\",\n",
    "    \"chaseforliberty\",\n",
    "]"
   ]
  },
  {
   "cell_type": "markdown",
   "metadata": {},
   "source": [
    "# Query Video Metadata based on Keyword Search and Profile"
   ]
  },
  {
   "cell_type": "markdown",
   "metadata": {},
   "source": [
    "## Keyword Search"
   ]
  },
  {
   "cell_type": "code",
   "execution_count": null,
   "metadata": {},
   "outputs": [],
   "source": [
    "# Initialize the ApifyClient with your API token\n",
    "client_keywordsearch = ApifyClient(os.getenv(\"APIFY_API\"))\n",
    "\n",
    "# Prepare the Actor input\n",
    "run_input_keywordsearch = {\n",
    "    \"excludePinnedPosts\": False,\n",
    "    \"resultsPerPage\": RESULTS_PER_PAGE,\n",
    "    \"searchQueries\": SEARCH_TERMS,\n",
    "    \"searchSection\": \"/video\",\n",
    "    \"shouldDownloadCovers\": False,\n",
    "    \"shouldDownloadSlideshowImages\": False,\n",
    "    \"shouldDownloadSubtitles\": False,\n",
    "    \"shouldDownloadVideos\": False\n",
    "}\n",
    "\n",
    "# Run the Actor and wait for it to finish\n",
    "run_keywordsearch = client_keywordsearch.actor(\"OtzYfK1ndEGdwWFKQ\").call(run_input=run_input_keywordsearch)\n",
    "\n",
    "new_video_metadata_keywordsearch = pd.DataFrame(list(client_keywordsearch.dataset(run_keywordsearch[\"defaultDatasetId\"]).iterate_items()))\n",
    "\n",
    "# Print response\n",
    "print(new_video_metadata_keywordsearch.shape)\n",
    "new_video_metadata_keywordsearch.head()"
   ]
  },
  {
   "cell_type": "markdown",
   "metadata": {},
   "source": [
    "## Profile Search"
   ]
  },
  {
   "cell_type": "code",
   "execution_count": null,
   "metadata": {},
   "outputs": [],
   "source": [
    "# Initialize the ApifyClient with your API token\n",
    "client_profilesearch = ApifyClient(os.getenv(\"APIFY_API\"))\n",
    "\n",
    "# Prepare the Actor input\n",
    "run_input_profilesearch = {\n",
    "    \"excludePinnedPosts\": False,\n",
    "    \"newestPostDate\": NEWEST_POST_DATE,\n",
    "    \"oldestPostDate\": OLDEST_POST_DATE,\n",
    "    \"profileScrapeSections\": [\n",
    "        \"videos\",\n",
    "        \"reposts\"\n",
    "    ],\n",
    "    \"profiles\": PROFILES,\n",
    "    \"shouldDownloadCovers\": False,\n",
    "    \"shouldDownloadSlideshowImages\": False,\n",
    "    \"shouldDownloadSubtitles\": False,\n",
    "    \"shouldDownloadVideos\": False\n",
    "}\n",
    "\n",
    "# Run the Actor and wait for it to finish\n",
    "run_profilesearch = client_profilesearch.actor(\"OtzYfK1ndEGdwWFKQ\").call(run_input=run_input_profilesearch)\n",
    "\n",
    "new_video_metadata_profilesearch = pd.DataFrame(list(client_profilesearch.dataset(run_profilesearch[\"defaultDatasetId\"]).iterate_items()))\n",
    "new_video_metadata_profilesearch.rename(columns={\"input\": \"profile\"}, inplace=True)\n",
    "\n",
    "# Print response\n",
    "print(new_video_metadata_profilesearch.shape)\n",
    "new_video_metadata_profilesearch.head()"
   ]
  },
  {
   "cell_type": "code",
   "execution_count": null,
   "metadata": {},
   "outputs": [],
   "source": [
    "# Process new video metadata\n",
    "new_video_metadata = pd.concat([new_video_metadata_keywordsearch, new_video_metadata_profilesearch], ignore_index=True)\n",
    "new_video_metadata[\"extractionTime\"] = pd.Timestamp.utcnow()\n",
    "\n",
    "# Define the file path\n",
    "video_metadata_path = f\"results/{PROJECT}/video_metadata.csv\"\n",
    "\n",
    "if os.path.exists(video_metadata_path):\n",
    "    # Load the existing file\n",
    "    old_video_metadata = pd.read_csv(video_metadata_path)\n",
    "    old_video_metadata[\"id\"] = old_video_metadata[\"id\"].astype(\"str\")\n",
    "    \n",
    "    # Append new data\n",
    "    updated_video_metadata = pd.concat([old_video_metadata, new_video_metadata])\n",
    "    \n",
    "else:\n",
    "    # Save the new data\n",
    "    updated_video_metadata = new_video_metadata\n",
    "\n",
    "# Remove duplicates, keeping the latest entry \n",
    "dict_columns = [col for col in updated_video_metadata.columns if updated_video_metadata[col].apply(lambda x: isinstance(x, (dict, list))).any()]\n",
    "updated_video_metadata.drop_duplicates(\n",
    "    subset=[col for col in updated_video_metadata.columns if col != \"extractionTime\" and col not in dict_columns],\n",
    "    keep='last', \n",
    "    inplace=True\n",
    ")\n",
    "\n",
    "# Save the combined data\n",
    "updated_video_metadata.to_csv(video_metadata_path, index=False)\n",
    "\n",
    "# Display the head of the DataFrame\n",
    "print(updated_video_metadata.shape)\n",
    "updated_video_metadata.head()"
   ]
  },
  {
   "cell_type": "markdown",
   "metadata": {},
   "source": [
    "# Extract/Update Profile Information"
   ]
  },
  {
   "cell_type": "code",
   "execution_count": null,
   "metadata": {},
   "outputs": [],
   "source": [
    "# Extract the authorMeta field\n",
    "new_profile_metadata = updated_video_metadata[[\"authorMeta\", \"extractionTime\"]]\n",
    "\n",
    "# Convert the authorMeta dictionary to separate columns\n",
    "new_profile_metadata = pd.json_normalize(new_profile_metadata['authorMeta']).join(new_profile_metadata['extractionTime'])\n",
    "new_profile_metadata.rename(columns={\"name\": \"profile\"}, inplace=True)\n",
    "new_profile_metadata[\"id\"] = new_profile_metadata[\"id\"].astype(\"str\")\n",
    "\n",
    "# Check if the file exists\n",
    "profile_metadata_path = f\"results/{PROJECT}/profile_metadata.csv\"\n",
    "if os.path.exists(profile_metadata_path):\n",
    "    # Load the existing file\n",
    "    prev_profile_metadata = pd.read_csv(profile_metadata_path)\n",
    "    prev_profile_metadata[\"id\"] = prev_profile_metadata[\"id\"].astype(\"str\")\n",
    "    \n",
    "    # Append new data\n",
    "    updated_profile_metadata = pd.concat([prev_profile_metadata, new_profile_metadata])\n",
    "    \n",
    "else:\n",
    "    # Save the new data\n",
    "    updated_profile_metadata = new_profile_metadata\n",
    "\n",
    "# Remove duplicates, keeping the latest entry \n",
    "dict_columns = [col for col in updated_profile_metadata.columns if updated_profile_metadata[col].apply(lambda x: isinstance(x, (dict, list))).any()]\n",
    "updated_profile_metadata.drop_duplicates(\n",
    "    subset=[col for col in updated_profile_metadata.columns if col != \"extractionTime\" and col not in dict_columns],\n",
    "    keep='last', \n",
    "    inplace=True\n",
    ")\n",
    "\n",
    "# Drop invalid profiles\n",
    "updated_profile_metadata = updated_profile_metadata[updated_profile_metadata[\"id\"]!='nan'].reset_index(drop=True)\n",
    "\n",
    "# Save profile metadata locally\n",
    "updated_profile_metadata.to_csv(profile_metadata_path, index=False)\n",
    "\n",
    "# Display the head of the DataFrame\n",
    "print(updated_profile_metadata.shape)\n",
    "updated_profile_metadata.head()"
   ]
  },
  {
   "cell_type": "code",
   "execution_count": null,
   "metadata": {},
   "outputs": [],
   "source": []
  }
 ],
 "metadata": {
  "kernelspec": {
   "display_name": "video-transcript",
   "language": "python",
   "name": "python3"
  },
  "language_info": {
   "codemirror_mode": {
    "name": "ipython",
    "version": 3
   },
   "file_extension": ".py",
   "mimetype": "text/x-python",
   "name": "python",
   "nbconvert_exporter": "python",
   "pygments_lexer": "ipython3",
   "version": "3.10.15"
  }
 },
 "nbformat": 4,
 "nbformat_minor": 2
}
