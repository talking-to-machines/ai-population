{
 "cells": [
  {
   "cell_type": "code",
   "execution_count": null,
   "metadata": {},
   "outputs": [],
   "source": [
    "import vertexai\n",
    "from vertexai.generative_models import GenerativeModel, Part\n",
    "\n",
    "# TODO(developer): Update and un-comment below line\n",
    "PROJECT_ID = \"video-transcript-442210\"\n",
    "vertexai.init(project=PROJECT_ID, location=\"us-central1\")\n",
    "\n",
    "model = GenerativeModel(\"gemini-1.5-pro\")\n",
    "\n",
    "video_file_uri = (\n",
    "    \"gs://cloud-ai-platform-f9c2aa91-2a38-4628-bf76-e9b911956c13/video2.mp4\"\n",
    ")\n",
    "\n",
    "prompt = \"\"\"\n",
    "Watch each frame in the video carefully and answer the questions.\n",
    "Only base your answers strictly on what information is available in the video attached.\n",
    "Do not make up any information that is not part of the video and do not be too\n",
    "verbose, be to the point.\n",
    "\n",
    "Questions:\n",
    "- Provide a summary of what is happening in the video\n",
    "\"\"\"\n",
    "\n",
    "contents = [\n",
    "    Part.from_uri(video_file_uri, mime_type=\"video/mp4\"),\n",
    "    prompt,\n",
    "]\n",
    "\n",
    "response = model.generate_content(contents)\n",
    "print(response.text)"
   ]
  }
 ],
 "metadata": {
  "kernelspec": {
   "display_name": "video-transcript",
   "language": "python",
   "name": "python3"
  },
  "language_info": {
   "codemirror_mode": {
    "name": "ipython",
    "version": 3
   },
   "file_extension": ".py",
   "mimetype": "text/x-python",
   "name": "python",
   "nbconvert_exporter": "python",
   "pygments_lexer": "ipython3",
   "version": "3.10.15"
  }
 },
 "nbformat": 4,
 "nbformat_minor": 2
}
